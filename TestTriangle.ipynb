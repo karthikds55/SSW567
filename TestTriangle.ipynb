{
 "cells": [
  {
   "cell_type": "code",
   "execution_count": 3,
   "metadata": {},
   "outputs": [
    {
     "ename": "ModuleNotFoundError",
     "evalue": "No module named 'Triangle'",
     "output_type": "error",
     "traceback": [
      "\u001b[1;31m---------------------------------------------------------------------------\u001b[0m",
      "\u001b[1;31mModuleNotFoundError\u001b[0m                       Traceback (most recent call last)",
      "Cell \u001b[1;32mIn[3], line 1\u001b[0m\n\u001b[1;32m----> 1\u001b[0m \u001b[38;5;28;01mfrom\u001b[39;00m \u001b[38;5;21;01mTriangle\u001b[39;00m \u001b[38;5;28;01mimport\u001b[39;00m classify_triangle  \u001b[38;5;66;03m# Assuming triangle.py is the name of your module\u001b[39;00m\n\u001b[0;32m      3\u001b[0m \u001b[38;5;28;01mclass\u001b[39;00m \u001b[38;5;21;01mTestTriangleClassification\u001b[39;00m(unittest\u001b[38;5;241m.\u001b[39mTestCase):\n\u001b[0;32m      4\u001b[0m \n\u001b[0;32m      5\u001b[0m     \u001b[38;5;66;03m# Test for equilateral triangles\u001b[39;00m\n\u001b[0;32m      6\u001b[0m     \u001b[38;5;28;01mdef\u001b[39;00m \u001b[38;5;21mtest_equilateral\u001b[39m(\u001b[38;5;28mself\u001b[39m):\n",
      "\u001b[1;31mModuleNotFoundError\u001b[0m: No module named 'Triangle'"
     ]
    }
   ],
   "source": [
    "import unittest\n",
    "from Triangle import classify_triangle  # Assuming triangle.py is the name of your module\n",
    "\n",
    "class TestTriangleClassification(unittest.TestCase):\n",
    "\n",
    "    # Test for equilateral triangles\n",
    "    def test_equilateral(self):\n",
    "        self.assertEqual(classify_triangle(5, 5, 5), \"Equilateral\")\n",
    "        self.assertEqual(classify_triangle(25, 25, 25), \"Equilateral\")\n",
    "    \n",
    "    # Test for isosceles triangles\n",
    "    def test_isosceles(self):\n",
    "        self.assertEqual(classify_triangle(3, 3, 4), \"Isosceles\")\n",
    "        self.assertEqual(classify_triangle(5, 5, 8), \"Isosceles\")\n",
    "\n",
    "    # Test for right triangles\n",
    "    def test_right(self):\n",
    "        self.assertEqual(classify_triangle(3, 4, 5), \"Scalene and Right\")\n",
    "        self.assertEqual(classify_triangle(5, 12, 13), \"Scalene and Right\")\n",
    "    \n",
    "    # Test for isosceles and right triangles\n",
    "    def test_isosceles_and_right(self):\n",
    "        self.assertEqual(classify_triangle(3, 3, 4.24), \"Isosceles and Right\")\n",
    "    \n",
    "    # Test for scalene triangles\n",
    "    def test_scalene(self):\n",
    "        self.assertEqual(classify_triangle(6, 8, 10), \"Scalene and Right\")\n",
    "        self.assertEqual(classify_triangle(7, 9, 12), \"Scalene\")\n",
    "\n",
    "    # Test for invalid triangles\n",
    "        self.assertEqual(classify_triangle(1, 2, 3), \"Invalid\")\n",
    "        self.assertEqual(classify_triangle(-1, 2, 3), \"Invalid\")\n",
    "        self.assertEqual(classify_triangle(0, 0, 0), \"Invalid\")\n",
    "        self.assertEqual(classify_triangle(10, 1, 1), \"Invalid\")\n",
    "\n",
    "if __name__ == \"__main__\":\n",
    "    unittest.main(argv=[''], exit=False)\n"
   ]
  }
 ],
 "metadata": {
  "kernelspec": {
   "display_name": "base",
   "language": "python",
   "name": "python3"
  },
  "language_info": {
   "codemirror_mode": {
    "name": "ipython",
    "version": 3
   },
   "file_extension": ".py",
   "mimetype": "text/x-python",
   "name": "python",
   "nbconvert_exporter": "python",
   "pygments_lexer": "ipython3",
   "version": "3.11.7"
  }
 },
 "nbformat": 4,
 "nbformat_minor": 2
}
